{
 "cells": [
  {
   "cell_type": "code",
   "execution_count": 4,
   "id": "820e3200",
   "metadata": {},
   "outputs": [
    {
     "ename": "ModuleNotFoundError",
     "evalue": "No module named 'PIL'",
     "output_type": "error",
     "traceback": [
      "\u001b[1;31m---------------------------------------------------------------------------\u001b[0m",
      "\u001b[1;31mModuleNotFoundError\u001b[0m                       Traceback (most recent call last)",
      "Cell \u001b[1;32mIn[4], line 1\u001b[0m\n\u001b[1;32m----> 1\u001b[0m \u001b[38;5;28;01mfrom\u001b[39;00m \u001b[38;5;21;01mPIL\u001b[39;00m \u001b[38;5;28;01mimport\u001b[39;00m Image\n\u001b[0;32m      2\u001b[0m \u001b[38;5;28;01mimport\u001b[39;00m \u001b[38;5;21;01mpytesseract\u001b[39;00m\n\u001b[0;32m      3\u001b[0m \u001b[38;5;28;01mimport\u001b[39;00m \u001b[38;5;21;01mre\u001b[39;00m\n",
      "\u001b[1;31mModuleNotFoundError\u001b[0m: No module named 'PIL'"
     ]
    }
   ],
   "source": [
    "from PIL import Image\n",
    "import pytesseract\n",
    "import re\n",
    "import os"
   ]
  },
  {
   "cell_type": "code",
   "execution_count": null,
   "id": "b357fd17",
   "metadata": {},
   "outputs": [],
   "source": [
    "# 이미지 합치기 함수\n",
    "def combine_images(image_paths):\n",
    "    images = [Image.open(path) for path in image_paths]\n",
    "    widths, heights = zip(*(i.size for i in images))\n",
    "    total_height = sum(heights)\n",
    "    max_width = max(widths)\n",
    "    new_image = Image.new('RGB', (max_width, total_height))\n",
    "    y_offset = 0\n",
    "    for img in images:\n",
    "        new_image.paste(img, (0, y_offset))\n",
    "        y_offset += img.height\n",
    "    return new_image"
   ]
  },
  {
   "cell_type": "code",
   "execution_count": null,
   "id": "0fbeab1f",
   "metadata": {},
   "outputs": [],
   "source": [
    "image_paths = [\n",
    "    'C:\\\\Users\\\\soo\\\\Desktop\\\\soo\\\\2024\\\\dx\\\\receipts\\\\0403_#1.jpg',\n",
    "    'C:\\\\Users\\\\soo\\\\Desktop\\\\soo\\\\2024\\\\dx\\\\receipts\\\\0403_#2.jpg'\n",
    "]\n",
    "\n",
    "# 이미지들을 합치고 텍스트 추출\n",
    "combined_image = combine_images(image_paths)"
   ]
  },
  {
   "cell_type": "code",
   "execution_count": null,
   "id": "21a1d073",
   "metadata": {},
   "outputs": [
    {
     "name": "stdout",
     "output_type": "stream",
     "text": [
      "15:33”~\"0^슬째즉내|27%호\n",
      "\n",
      "60008\n",
      "\n",
      "20240403790116740005867013\n",
      "\n",
      "이마트다산점1:(031)579-1234\n",
      "206-86-50913강희석\n",
      "경기도남양주시도농로24\n",
      "\n",
      "브2\n",
      "!불구:매점에서가능(결제|드지참)\n",
      "\n",
      "[구매]2024-04-0320:29005:7901-1674\n",
      "\n",
      "01코디내추렬미용230*6\n",
      "\n",
      "88091729238569,50019,500\n",
      "02메디안듀얼이펙션치솔\n",
      "88064032338763,40013,400\n",
      "03*청정원국산콩나물3400\n",
      "88010249537692.48012,480\n",
      "04*예냉숙음\n",
      "25000000393481.66011.660\n",
      "05*자연주의친환경고구\n",
      "<()11ㅠ\n",
      "\n",
      "15:48”-^슬벡숙내미122%8\n",
      "\n",
      "06*제주햇흙당근(봉)\n",
      "\n",
      "25000001113344,98014,980\n",
      "07풀무원깐메추리알유\n",
      "88011141558067,98017,980\n",
      "08*물가안정갈치(대,해동\n",
      "24392000732837,32017,320\n",
      "09기획구운란30구\n",
      "88014961101729,90019,900\n",
      "[채소]기획구운란-1.000\n",
      "10*미국산만다린1.869/\n",
      "25072810330349,98019,980\n",
      "11*하루채소양배추\n",
      "25000000767569901990\n",
      "12*애호박(개)※공급처:\n",
      "24440100148001.48011.480\n",
      "(*)면세물품28890\n",
      "과세물품27073\n",
      "부가세2.707\n",
      "합계58,670\n",
      "결제대상금액58,670\n",
      "0025신한46195410**231*/48229296\n",
      "카드결제(1)일시불/58,670\n",
      "\n",
      "고객님\n",
      "그히발생포인트9350**7303/(58\n",
      "누계(가용)포인트512(454)\n",
      "*신세계포인트유효기간은2년입니다.\n",
      "\n",
      "560:790001/|1270441350\n",
      "20240403790116740005867013+\n",
      "\n",
      "<@11;\n",
      "\n"
     ]
    }
   ],
   "source": [
    "pytesseract.pytesseract.tesseract_cmd = r'C:\\\\Program Files\\\\Tesseract-OCR\\\\tesseract.exe'\n",
    "\n",
    "text0403 = pytesseract.image_to_string(combined_image, lang='kor')\n",
    "text0403 =text0403.replace(\" \", \"\")\n",
    "\n",
    "print(text0403)"
   ]
  },
  {
   "cell_type": "code",
   "execution_count": null,
   "id": "9bd7784a",
   "metadata": {},
   "outputs": [
    {
     "name": "stdout",
     "output_type": "stream",
     "text": [
      "상품명: 1(, 가격: 031원\n",
      "상품명: 01코디내추렬미용, 가격: 230원\n",
      "상품명: 88091729238569,, 가격: 50019500원\n",
      "상품명: 88064032338763,, 가격: 40013400원\n",
      "상품명: 03*청정원국산콩나물, 가격: 3400원\n",
      "상품명: 8801024953769248012,, 가격: 480원\n",
      "상품명: 1548슬벡숙내미, 가격: 1228원\n",
      "상품명: 25000001113344,, 가격: 98014980원\n",
      "상품명: 88011141558067,, 가격: 98017980원\n",
      "상품명: 24392000732837,, 가격: 32017320원\n",
      "상품명: 88014961101729,, 가격: 90019900원\n",
      "상품명: 10*미국산만다린, 가격: 1869원\n",
      "상품명: 25072810330349,, 가격: 98019980원\n",
      "상품명: 58,, 가격: 670원\n",
      "상품명: 58,, 가격: 670원\n",
      "상품명: 0025신한, 가격: 46195410원\n",
      "상품명: 58,, 가격: 670원\n",
      "상품명: 9350**, 가격: 7303원\n",
      "상품명: 512(, 가격: 454원\n"
     ]
    }
   ],
   "source": [
    "pattern = re.compile(r'(\\d+\\*?[^\\d\\n]+)(\\d{3,},?\\d{0,3})원?')\n",
    "\n",
    "\n",
    "results = []\n",
    "\n",
    "# 추출된 텍스트를 줄 단위로 처리\n",
    "lines = text0403.split('\\n')\n",
    "for line in lines:\n",
    "    line = re.sub(r'[^\\w\\s*(),]', '', line)  # 특수문자 제거\n",
    "    match = pattern.search(line)\n",
    "    if match:\n",
    "        item_name = match.group(1).strip()\n",
    "        item_price = match.group(2).replace(',', '')  # 콤마 제거\n",
    "        results.append((item_name, item_price))\n",
    "\n",
    "# 결과 출력\n",
    "for item in results:\n",
    "    print(f\"상품명: {item[0]}, 가격: {item[1]}원\")"
   ]
  },
  {
   "cell_type": "code",
   "execution_count": null,
   "id": "d175f1fb",
   "metadata": {},
   "outputs": [],
   "source": []
  }
 ],
 "metadata": {
  "kernelspec": {
   "display_name": "Python 3 (ipykernel)",
   "language": "python",
   "name": "python3"
  },
  "language_info": {
   "codemirror_mode": {
    "name": "ipython",
    "version": 3
   },
   "file_extension": ".py",
   "mimetype": "text/x-python",
   "name": "python",
   "nbconvert_exporter": "python",
   "pygments_lexer": "ipython3",
   "version": "3.12.1"
  },
  "toc": {
   "base_numbering": 1,
   "nav_menu": {},
   "number_sections": true,
   "sideBar": true,
   "skip_h1_title": true,
   "title_cell": "Table of Contents",
   "title_sidebar": "Contents",
   "toc_cell": false,
   "toc_position": {},
   "toc_section_display": true,
   "toc_window_display": false
  }
 },
 "nbformat": 4,
 "nbformat_minor": 5
}
